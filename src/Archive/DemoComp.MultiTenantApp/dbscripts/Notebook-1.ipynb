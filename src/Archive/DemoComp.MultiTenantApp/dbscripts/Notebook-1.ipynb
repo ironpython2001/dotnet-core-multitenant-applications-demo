{
    "metadata": {
        "kernelspec": {
            "name": "SQL",
            "display_name": "SQL",
            "language": "sql"
        },
        "language_info": {
            "name": "sql",
            "version": ""
        }
    },
    "nbformat_minor": 2,
    "nbformat": 4,
    "cells": [
        {
            "cell_type": "code",
            "source": [
                "CREATE TABLE Tenant\r\n",
                "(\r\n",
                "    TenantID INT NOT NULL IDENTITY PRIMARY KEY CLUSTERED ,\r\n",
                "    TenantName VARCHAR(10) NOT NULL,\r\n",
                "    Identifier VARCHAR(50) NOT NULL,\r\n",
                "\tStartTime datetime2 GENERATED ALWAYS AS ROW START NOT NULL,\r\n",
                "\tEndTime datetime2 GENERATED ALWAYS AS ROW END NOT NULL,\r\n",
                "\tPERIOD FOR SYSTEM_TIME (StartTime,EndTime)\r\n",
                ")\r\n",
                "WITH (SYSTEM_VERSIONING = ON (HISTORY_TABLE = dbo.TenantHistory));\r\n",
                ""
            ],
            "metadata": {
                "azdata_cell_guid": "f7223a5d-eb7b-4011-b735-418777299db1",
                "language": "sql"
            },
            "outputs": [],
            "execution_count": null
        }
    ]
}